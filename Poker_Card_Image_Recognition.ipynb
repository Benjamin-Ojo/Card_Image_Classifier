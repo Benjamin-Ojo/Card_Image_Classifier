{
  "nbformat": 4,
  "nbformat_minor": 0,
  "metadata": {
    "colab": {
      "provenance": [],
      "collapsed_sections": [
        "CsBoRvq-XgSl",
        "hqGuSEmDV_Tm"
      ],
      "authorship_tag": "ABX9TyOrP43r+JOvfKcNkulTDXcl"
    },
    "kernelspec": {
      "name": "python3",
      "display_name": "Python 3"
    },
    "language_info": {
      "name": "python"
    }
  },
  "cells": [
    {
      "cell_type": "markdown",
      "source": [
        "# **Project: Card Image Classification**\n",
        "---"
      ],
      "metadata": {
        "id": "oIUoVj-zM97u"
      }
    },
    {
      "cell_type": "markdown",
      "source": [
        "## **Introduction:**\n",
        "\n",
        "Welcome to an exciting project where we will be exploring the fascinating world of image recognition! Our project focuses on the task of classifying a set of poker cards into 53 different categories based on their type.\n",
        "\n",
        "Using a Convolutional Neural Network (CNN) model, we will train our model to accurately classify images of poker cards into any of the 53 categories. Our dataset, which was obtained from a popular data science community, Kaggle, contains a total of 8154 images of poker cards, divided into 7624 train, 265 test, and 265 validation sets. Each image is a 224 x 224 3-dimensional jpg format.\n",
        "\n",
        "The dataset we used for this project can be found on the Kaggle website at the following link: [Cards Image Dataset-Classification](https://www.kaggle.com/datasets/gpiosenka/cards-image-datasetclassification). This project will not only teach us how to build a powerful image recognition model using a CNN model, but it will also give us a deeper understanding of the complexities involved in training a machine learning algorithm to recognize images. So, buckle up, and let's dive into this thrilling project together!"
      ],
      "metadata": {
        "id": "V5TvsdU9NP99"
      }
    },
    {
      "cell_type": "markdown",
      "source": [
        "### Project Break Down: \n",
        "The project would be broken down in the following:\n",
        "Certainly! Here's a breakdown of what this image recognition project will entail:\n",
        "\n",
        "1. **Data Wrangling:** We will download the poker card image dataset from Kaggle and examine the images to gain insights into the data.\n",
        "\n",
        "2. **Data Preprocessing:** We will preprocess the images by resizing them to a standard size and converting them into an array format suitable for feeding into our CNN model.\n",
        "\n",
        "3. **Data Augmentation:** We will use data augmentation techniques such as image rotation, flipping, and zooming to increase the size of our dataset and improve the robustness of our model.\n",
        "\n",
        "4. **Model Building:** We will build a CNN model using Keras with TensorFlow backend, and train the model using our preprocessed dataset. We will experiment with different architectures, hyperparameters, and optimization algorithms to achieve optimal performance.\n",
        "\n",
        "5. **Model Evaluation:** We will evaluate the performance of our model using various metrics such as accuracy, precision, recall, and F1 score, and visualize the results using confusion matrix and classification report.\n",
        "\n",
        "6. **Model Deployment:** We will deploy our trained model to make predictions on new, unseen poker card images, and visualize the predictions.\n",
        "\n"
      ],
      "metadata": {
        "id": "HYCSITnTRFdD"
      }
    },
    {
      "cell_type": "markdown",
      "source": [
        "## **Packages & Hyperparameters.**\n"
      ],
      "metadata": {
        "id": "R0FvR7MghH_k"
      }
    },
    {
      "cell_type": "markdown",
      "source": [
        "### Python Packages."
      ],
      "metadata": {
        "id": "EDph8f3DhiLv"
      }
    },
    {
      "cell_type": "markdown",
      "source": [
        "\n",
        "Python packages used in this project can be found below: "
      ],
      "metadata": {
        "id": "BRib2drCkJvI"
      }
    },
    {
      "cell_type": "code",
      "source": [
        "# Data Manipulation Packages.\n",
        "import pandas as pd\n",
        "import numpy as np\n",
        "\n",
        "# File manager Packages. \n",
        "import os\n",
        "from google.colab import files\n",
        "from IPython.display import display\n",
        "\n",
        "# Data Visualization Packages. \n",
        "import matplotlib.pyplot as plt\n",
        "\n",
        "# Tensorflow Packages. \n",
        "import tensorflow as tf\n",
        "from tensorflow import keras\n",
        "from keras.preprocessing.image import ImageDataGenerator\n",
        "from keras.callbacks import Callback\n",
        "from keras.models import Sequential\n",
        "from keras.layers import Conv2D, MaxPooling2D, Flatten, Dense\n"
      ],
      "metadata": {
        "id": "bKZAA6w6g9HW"
      },
      "execution_count": null,
      "outputs": []
    },
    {
      "cell_type": "markdown",
      "source": [
        "### Hyperparameters."
      ],
      "metadata": {
        "id": "BdTQTIDlkN-q"
      }
    },
    {
      "cell_type": "markdown",
      "source": [
        "The hyparaparameters used for training and other variables like batch size, image size, etc. will be defined below:"
      ],
      "metadata": {
        "id": "jH-D1oMCkTiS"
      }
    },
    {
      "cell_type": "code",
      "source": [
        "# Tensorflow Hyper-parameters.\n",
        "lr = 0.001\n",
        "batch_size = 10\n",
        "dense_unit_1 = None\n",
        "dense_unit_2 = None\n",
        "img_size = None"
      ],
      "metadata": {
        "id": "_AQScnGykSVc"
      },
      "execution_count": null,
      "outputs": []
    },
    {
      "cell_type": "markdown",
      "source": [
        "## **Data Wrangling:**"
      ],
      "metadata": {
        "id": "07Rrcv_xXN5P"
      }
    },
    {
      "cell_type": "markdown",
      "source": [
        "### Data Collection:\n",
        "\n",
        "We will be downloading our dataset form kaggle and extracting the data from the zip foulder it enclosed in using zipfile package."
      ],
      "metadata": {
        "id": "CsBoRvq-XgSl"
      }
    },
    {
      "cell_type": "code",
      "source": [
        "# Define dataset folder. \n",
        "! mkdir 1.Dataset."
      ],
      "metadata": {
        "id": "1FEgSKNFNODX",
        "colab": {
          "base_uri": "https://localhost:8080/"
        },
        "outputId": "791761ea-4873-4152-ab4b-ce73dcb0ad69"
      },
      "execution_count": null,
      "outputs": [
        {
          "output_type": "stream",
          "name": "stdout",
          "text": [
            "mkdir: cannot create directory ‘1.Dataset.’: File exists\n"
          ]
        }
      ]
    },
    {
      "cell_type": "markdown",
      "source": [
        "#### Kaggle Data Import\n",
        "\n",
        "We will be downloading our dataset directly from kaggle to our colab notebook using the kaggle api. "
      ],
      "metadata": {
        "id": "hqGuSEmDV_Tm"
      }
    },
    {
      "cell_type": "code",
      "source": [
        "# Install kaggle api with Pip. \n",
        "!pip install kaggle"
      ],
      "metadata": {
        "id": "fCUpSOGwlqhG",
        "colab": {
          "base_uri": "https://localhost:8080/"
        },
        "outputId": "7fc2cd62-25aa-4648-b042-19a851540588"
      },
      "execution_count": null,
      "outputs": [
        {
          "output_type": "stream",
          "name": "stdout",
          "text": [
            "Looking in indexes: https://pypi.org/simple, https://us-python.pkg.dev/colab-wheels/public/simple/\n",
            "Requirement already satisfied: kaggle in /usr/local/lib/python3.10/dist-packages (1.5.13)\n",
            "Requirement already satisfied: six>=1.10 in /usr/local/lib/python3.10/dist-packages (from kaggle) (1.16.0)\n",
            "Requirement already satisfied: certifi in /usr/local/lib/python3.10/dist-packages (from kaggle) (2022.12.7)\n",
            "Requirement already satisfied: python-dateutil in /usr/local/lib/python3.10/dist-packages (from kaggle) (2.8.2)\n",
            "Requirement already satisfied: requests in /usr/local/lib/python3.10/dist-packages (from kaggle) (2.27.1)\n",
            "Requirement already satisfied: tqdm in /usr/local/lib/python3.10/dist-packages (from kaggle) (4.65.0)\n",
            "Requirement already satisfied: python-slugify in /usr/local/lib/python3.10/dist-packages (from kaggle) (8.0.1)\n",
            "Requirement already satisfied: urllib3 in /usr/local/lib/python3.10/dist-packages (from kaggle) (1.26.15)\n",
            "Requirement already satisfied: text-unidecode>=1.3 in /usr/local/lib/python3.10/dist-packages (from python-slugify->kaggle) (1.3)\n",
            "Requirement already satisfied: charset-normalizer~=2.0.0 in /usr/local/lib/python3.10/dist-packages (from requests->kaggle) (2.0.12)\n",
            "Requirement already satisfied: idna<4,>=2.5 in /usr/local/lib/python3.10/dist-packages (from requests->kaggle) (3.4)\n"
          ]
        }
      ]
    },
    {
      "cell_type": "code",
      "source": [
        "# Uploading Kaggle api token key.\n",
        "from google.colab import files\n",
        "\n",
        "files.upload()"
      ],
      "metadata": {
        "id": "yh-iojUmXKQW"
      },
      "execution_count": null,
      "outputs": []
    },
    {
      "cell_type": "code",
      "source": [
        "# Changing api token location.\n",
        "!mkdir ~/.kaggle\n",
        "\n",
        "!cp kaggle.json ~/.kaggle/"
      ],
      "metadata": {
        "colab": {
          "base_uri": "https://localhost:8080/"
        },
        "id": "W2lG2xR0YNaN",
        "outputId": "65af6262-8544-4c46-80f5-6387561fcac2"
      },
      "execution_count": null,
      "outputs": [
        {
          "output_type": "stream",
          "name": "stdout",
          "text": [
            "mkdir: cannot create directory ‘/root/.kaggle’: File exists\n"
          ]
        }
      ]
    },
    {
      "cell_type": "code",
      "source": [
        "# set the appropriate permissions \n",
        "!chmod 600 ~/.kaggle/kaggle.json"
      ],
      "metadata": {
        "id": "NAFy9Mi4YdGy"
      },
      "execution_count": null,
      "outputs": []
    },
    {
      "cell_type": "code",
      "source": [
        "# verify api key.\n",
        "!kaggle datasets list\n"
      ],
      "metadata": {
        "id": "gqn2VAQ8aJct",
        "colab": {
          "base_uri": "https://localhost:8080/"
        },
        "outputId": "d873b65d-3bc6-4a45-e6fd-90f6b2c84fb0"
      },
      "execution_count": null,
      "outputs": [
        {
          "output_type": "stream",
          "name": "stdout",
          "text": [
            "ref                                                       title                                              size  lastUpdated          downloadCount  voteCount  usabilityRating  \n",
            "--------------------------------------------------------  ------------------------------------------------  -----  -------------------  -------------  ---------  ---------------  \n",
            "arnabchaki/data-science-salaries-2023                     Data Science Salaries 2023 💸                       25KB  2023-04-13 09:55:16          14337        381  1.0              \n",
            "chitrakumari25/corona-virus-latest-data-2023              Corona virus latest data 2023                      10KB  2023-04-29 16:00:51           1244         34  1.0              \n",
            "utkarshx27/starbucks-nutrition                            Starbucks Nutrition Facts                           2KB  2023-05-10 05:42:59            736         30  1.0              \n",
            "utkarshx27/monthly-transportation-statistics              Monthly Transportation Statistics                 131KB  2023-05-02 02:43:50           1069         28  1.0              \n",
            "iammustafatz/diabetes-prediction-dataset                  Diabetes prediction dataset                       734KB  2023-04-08 06:11:45           7223        103  1.0              \n",
            "desalegngeb/students-exam-scores                          Students Exam Scores: Extended Dataset            695KB  2023-04-14 00:15:38           5692        122  1.0              \n",
            "bourdier/all-tv-series-details-dataset                    Weekly TV Series Update Dataset                    56MB  2023-05-10 20:41:10            635         21  0.9411765        \n",
            "utkarshx27/smoking-dataset-from-uk                        Smoking Dataset from UK                            17KB  2023-05-10 05:41:12            971         32  1.0              \n",
            "mykhailozub/500-hotels-from-airbnb-booking-and-hotelscom  7500 hotels from Airbnb, Booking and Hotels.com   428KB  2023-05-04 15:37:17            548         23  1.0              \n",
            "ahmedshahriarsakib/usa-real-estate-dataset                USA Real Estate Dataset                             1MB  2023-04-30 03:51:36           1825         47  1.0              \n",
            "asahu40/walmart-data-analysis-and-forcasting              Walmart Data Analysis and Forcasting              122KB  2023-04-26 07:07:03           2143         50  1.0              \n",
            "nishantbhardwaj07/airindia-monthly-passenger-traffic      AirIndia Monthly Passenger Traffic                  6KB  2023-04-20 11:26:18            786         22  1.0              \n",
            "utkarshx27/real-estate-sales-2001-2020-gl                 Real Estate Sales 2001-2020 GL                     33MB  2023-05-05 04:22:05            751         26  1.0              \n",
            "sougatapramanick/happiness-index-2018-2019                Happiness Index 2018-2019                          15KB  2023-04-14 12:01:03           2435         45  1.0              \n",
            "olcaybolat1/dermatology-dataset-classification            Dermatology Dataset (Multi-class classification)    5KB  2023-05-09 11:21:39            315         26  1.0              \n",
            "utkarshx27/suicide-attempts-in-shandong-china             Suicide Attempts in Shandong, China                29KB  2023-05-06 11:54:22            733         29  1.0              \n",
            "r1shabhgupta/best-movies-on-netflix                       Top 100 Movies on Netflix                          32KB  2023-04-13 15:34:38           1725         44  1.0              \n",
            "salvatorerastelli/spotify-and-youtube                     Spotify and Youtube                                 9MB  2023-03-20 15:43:25          14554        456  1.0              \n",
            "mohamedafsal007/house-price-dataset-of-india              House Price dataset of India                      480KB  2023-03-27 06:22:55          11081        106  0.88235295       \n",
            "utkarshx27/arrests-for-marijuana-possession               Arrests for Marijuana Possession                   32KB  2023-05-08 10:17:21            933         32  1.0              \n"
          ]
        }
      ]
    },
    {
      "cell_type": "code",
      "source": [
        "# Downloading dataset. \n",
        "!kaggle datasets download -d gpiosenka/cards-image-datasetclassification"
      ],
      "metadata": {
        "colab": {
          "base_uri": "https://localhost:8080/"
        },
        "id": "QCtMsuruajvD",
        "outputId": "6c0ef9d2-2219-43b2-8a93-1457bd2300cc"
      },
      "execution_count": null,
      "outputs": [
        {
          "output_type": "stream",
          "name": "stdout",
          "text": [
            "cards-image-datasetclassification.zip: Skipping, found more recently modified local copy (use --force to force download)\n"
          ]
        }
      ]
    },
    {
      "cell_type": "code",
      "source": [
        "# Unzip folder. \n",
        "! unzip cards-image-datasetclassification.zip -d 1.Dataset."
      ],
      "metadata": {
        "colab": {
          "base_uri": "https://localhost:8080/"
        },
        "id": "NF8OLAmAeTO5",
        "outputId": "4a9ba25f-b435-4e6c-c144-536e5da50c8e"
      },
      "execution_count": null,
      "outputs": [
        {
          "output_type": "stream",
          "name": "stdout",
          "text": [
            "Archive:  cards-image-datasetclassification.zip\n",
            "replace 1.Dataset./14card types-14-(200 X 200)-94.61.h5? [y]es, [n]o, [A]ll, [N]one, [r]ename: "
          ]
        }
      ]
    },
    {
      "cell_type": "markdown",
      "source": [
        "### Data Review.\n",
        "\n",
        "We will be viewing our dataset and visulize them using matplotlib image show package. "
      ],
      "metadata": {
        "id": "I5ZwZBshgKWQ"
      }
    },
    {
      "cell_type": "code",
      "source": [
        "# Defining data directories. \n",
        "data_dir = os.path.join(\"/content/1.Dataset.\")\n",
        "\n",
        "# Folder content.\n",
        "os.listdir(data_dir)"
      ],
      "metadata": {
        "colab": {
          "base_uri": "https://localhost:8080/"
        },
        "id": "GMTqCgCGeutO",
        "outputId": "59ff595e-cc77-4257-9cd2-703ee005bdfe"
      },
      "execution_count": null,
      "outputs": [
        {
          "output_type": "execute_result",
          "data": {
            "text/plain": [
              "['53cards-53-(200 X 200)-100.00.h5',\n",
              " 'cards.csv',\n",
              " 'test',\n",
              " 'valid',\n",
              " 'train',\n",
              " '14card types-14-(200 X 200)-94.61.h5']"
            ]
          },
          "metadata": {},
          "execution_count": 69
        }
      ]
    },
    {
      "cell_type": "code",
      "source": [
        "# Defining card path\n",
        "card_path = os.path.join(data_dir, 'cards.csv')\n",
        "\n",
        "# Read card.csv to padas.\n",
        "cards_csv = pd.read_csv(card_path)\n",
        "\n",
        "# Viewing data.\n",
        "print(f\"File shape: {cards_csv.shape}\\n\")\n",
        "print(f\"Data columns: {cards_csv.columns}\\n\")"
      ],
      "metadata": {
        "colab": {
          "base_uri": "https://localhost:8080/"
        },
        "id": "cYpzSGCHm1Au",
        "outputId": "32922b43-2c7b-4395-d99f-34fdbe0f828e"
      },
      "execution_count": null,
      "outputs": [
        {
          "output_type": "stream",
          "name": "stdout",
          "text": [
            "File shape: (8155, 5)\n",
            "\n",
            "Data columns: Index(['class index', 'filepaths', 'labels', 'card type', 'data set'], dtype='object')\n",
            "\n"
          ]
        }
      ]
    },
    {
      "cell_type": "code",
      "source": [
        "# Data layer-out\n",
        "display(cards_csv.head(1))\n",
        "print(\"\\n\\n\")\n",
        "\n",
        "# Training data sample\n",
        "print(f\"\\t######################## Train Data Sample ########################\\n\")\n",
        "train_sample = cards_csv[cards_csv['data set'] == 'train'].sample(n=10)\n",
        "display(train_sample)\n",
        "print(\"\\n\\n\")\n",
        "\n",
        "# Testing data sample\n",
        "print(f\"\\t######################## Test Data Sample ########################\\n\")\n",
        "test_sample = cards_csv[cards_csv['data set'] == 'test'].sample(n=10)\n",
        "display(train_sample)\n",
        "print(\"\\n\\n\")\n",
        "\n",
        "# Validation data\n",
        "print(f\"\\t######################## Validation Data Sample ########################\\n\")\n",
        "valid_sample = cards_csv[cards_csv['data set'] == 'valid'].sample(n=10)\n",
        "display(valid_sample)\n",
        "print(\"\\n\\n\")\n"
      ],
      "metadata": {
        "colab": {
          "base_uri": "https://localhost:8080/",
          "height": 1000
        },
        "id": "FDruIY95uQcz",
        "outputId": "287c8f05-bfaf-4338-e971-2e8c687b41ef"
      },
      "execution_count": null,
      "outputs": [
        {
          "output_type": "display_data",
          "data": {
            "text/plain": [
              "   class index                   filepaths        labels card type data set\n",
              "0            0  train/ace of clubs/001.jpg  ace of clubs       ace    train"
            ],
            "text/html": [
              "\n",
              "  <div id=\"df-870ff96e-a637-4d3d-8279-27adb3af6b62\">\n",
              "    <div class=\"colab-df-container\">\n",
              "      <div>\n",
              "<style scoped>\n",
              "    .dataframe tbody tr th:only-of-type {\n",
              "        vertical-align: middle;\n",
              "    }\n",
              "\n",
              "    .dataframe tbody tr th {\n",
              "        vertical-align: top;\n",
              "    }\n",
              "\n",
              "    .dataframe thead th {\n",
              "        text-align: right;\n",
              "    }\n",
              "</style>\n",
              "<table border=\"1\" class=\"dataframe\">\n",
              "  <thead>\n",
              "    <tr style=\"text-align: right;\">\n",
              "      <th></th>\n",
              "      <th>class index</th>\n",
              "      <th>filepaths</th>\n",
              "      <th>labels</th>\n",
              "      <th>card type</th>\n",
              "      <th>data set</th>\n",
              "    </tr>\n",
              "  </thead>\n",
              "  <tbody>\n",
              "    <tr>\n",
              "      <th>0</th>\n",
              "      <td>0</td>\n",
              "      <td>train/ace of clubs/001.jpg</td>\n",
              "      <td>ace of clubs</td>\n",
              "      <td>ace</td>\n",
              "      <td>train</td>\n",
              "    </tr>\n",
              "  </tbody>\n",
              "</table>\n",
              "</div>\n",
              "      <button class=\"colab-df-convert\" onclick=\"convertToInteractive('df-870ff96e-a637-4d3d-8279-27adb3af6b62')\"\n",
              "              title=\"Convert this dataframe to an interactive table.\"\n",
              "              style=\"display:none;\">\n",
              "        \n",
              "  <svg xmlns=\"http://www.w3.org/2000/svg\" height=\"24px\"viewBox=\"0 0 24 24\"\n",
              "       width=\"24px\">\n",
              "    <path d=\"M0 0h24v24H0V0z\" fill=\"none\"/>\n",
              "    <path d=\"M18.56 5.44l.94 2.06.94-2.06 2.06-.94-2.06-.94-.94-2.06-.94 2.06-2.06.94zm-11 1L8.5 8.5l.94-2.06 2.06-.94-2.06-.94L8.5 2.5l-.94 2.06-2.06.94zm10 10l.94 2.06.94-2.06 2.06-.94-2.06-.94-.94-2.06-.94 2.06-2.06.94z\"/><path d=\"M17.41 7.96l-1.37-1.37c-.4-.4-.92-.59-1.43-.59-.52 0-1.04.2-1.43.59L10.3 9.45l-7.72 7.72c-.78.78-.78 2.05 0 2.83L4 21.41c.39.39.9.59 1.41.59.51 0 1.02-.2 1.41-.59l7.78-7.78 2.81-2.81c.8-.78.8-2.07 0-2.86zM5.41 20L4 18.59l7.72-7.72 1.47 1.35L5.41 20z\"/>\n",
              "  </svg>\n",
              "      </button>\n",
              "      \n",
              "  <style>\n",
              "    .colab-df-container {\n",
              "      display:flex;\n",
              "      flex-wrap:wrap;\n",
              "      gap: 12px;\n",
              "    }\n",
              "\n",
              "    .colab-df-convert {\n",
              "      background-color: #E8F0FE;\n",
              "      border: none;\n",
              "      border-radius: 50%;\n",
              "      cursor: pointer;\n",
              "      display: none;\n",
              "      fill: #1967D2;\n",
              "      height: 32px;\n",
              "      padding: 0 0 0 0;\n",
              "      width: 32px;\n",
              "    }\n",
              "\n",
              "    .colab-df-convert:hover {\n",
              "      background-color: #E2EBFA;\n",
              "      box-shadow: 0px 1px 2px rgba(60, 64, 67, 0.3), 0px 1px 3px 1px rgba(60, 64, 67, 0.15);\n",
              "      fill: #174EA6;\n",
              "    }\n",
              "\n",
              "    [theme=dark] .colab-df-convert {\n",
              "      background-color: #3B4455;\n",
              "      fill: #D2E3FC;\n",
              "    }\n",
              "\n",
              "    [theme=dark] .colab-df-convert:hover {\n",
              "      background-color: #434B5C;\n",
              "      box-shadow: 0px 1px 3px 1px rgba(0, 0, 0, 0.15);\n",
              "      filter: drop-shadow(0px 1px 2px rgba(0, 0, 0, 0.3));\n",
              "      fill: #FFFFFF;\n",
              "    }\n",
              "  </style>\n",
              "\n",
              "      <script>\n",
              "        const buttonEl =\n",
              "          document.querySelector('#df-870ff96e-a637-4d3d-8279-27adb3af6b62 button.colab-df-convert');\n",
              "        buttonEl.style.display =\n",
              "          google.colab.kernel.accessAllowed ? 'block' : 'none';\n",
              "\n",
              "        async function convertToInteractive(key) {\n",
              "          const element = document.querySelector('#df-870ff96e-a637-4d3d-8279-27adb3af6b62');\n",
              "          const dataTable =\n",
              "            await google.colab.kernel.invokeFunction('convertToInteractive',\n",
              "                                                     [key], {});\n",
              "          if (!dataTable) return;\n",
              "\n",
              "          const docLinkHtml = 'Like what you see? Visit the ' +\n",
              "            '<a target=\"_blank\" href=https://colab.research.google.com/notebooks/data_table.ipynb>data table notebook</a>'\n",
              "            + ' to learn more about interactive tables.';\n",
              "          element.innerHTML = '';\n",
              "          dataTable['output_type'] = 'display_data';\n",
              "          await google.colab.output.renderOutput(dataTable, element);\n",
              "          const docLink = document.createElement('div');\n",
              "          docLink.innerHTML = docLinkHtml;\n",
              "          element.appendChild(docLink);\n",
              "        }\n",
              "      </script>\n",
              "    </div>\n",
              "  </div>\n",
              "  "
            ]
          },
          "metadata": {}
        },
        {
          "output_type": "stream",
          "name": "stdout",
          "text": [
            "\n",
            "\n",
            "\n",
            "\t######################## Train Data Sample ########################\n",
            "\n"
          ]
        },
        {
          "output_type": "display_data",
          "data": {
            "text/plain": [
              "      class index                       filepaths            labels card type  \\\n",
              "3291           22  train/king of diamonds/045.jpg  king of diamonds      king   \n",
              "185             1   train/ace of diamonds/065.jpg   ace of diamonds       ace   \n",
              "1637           11    train/five of spades/028.jpg    five of spades      five   \n",
              "3320           22  train/king of diamonds/074.jpg  king of diamonds      king   \n",
              "6390           44     train/ten of spades/031.jpg     ten of spades       ten   \n",
              "1981           13  train/four of diamonds/057.jpg  four of diamonds      four   \n",
              "4779           32   train/queen of spades/119.jpg   queen of spades     queen   \n",
              "4642           31   train/queen of hearts/121.jpg   queen of hearts     queen   \n",
              "6288           43     train/ten of hearts/058.jpg     ten of hearts       ten   \n",
              "1560           10    train/five of hearts/087.jpg    five of hearts      five   \n",
              "\n",
              "     data set  \n",
              "3291    train  \n",
              "185     train  \n",
              "1637    train  \n",
              "3320    train  \n",
              "6390    train  \n",
              "1981    train  \n",
              "4779    train  \n",
              "4642    train  \n",
              "6288    train  \n",
              "1560    train  "
            ],
            "text/html": [
              "\n",
              "  <div id=\"df-e08e939b-b67b-4edc-918a-31bfa437459b\">\n",
              "    <div class=\"colab-df-container\">\n",
              "      <div>\n",
              "<style scoped>\n",
              "    .dataframe tbody tr th:only-of-type {\n",
              "        vertical-align: middle;\n",
              "    }\n",
              "\n",
              "    .dataframe tbody tr th {\n",
              "        vertical-align: top;\n",
              "    }\n",
              "\n",
              "    .dataframe thead th {\n",
              "        text-align: right;\n",
              "    }\n",
              "</style>\n",
              "<table border=\"1\" class=\"dataframe\">\n",
              "  <thead>\n",
              "    <tr style=\"text-align: right;\">\n",
              "      <th></th>\n",
              "      <th>class index</th>\n",
              "      <th>filepaths</th>\n",
              "      <th>labels</th>\n",
              "      <th>card type</th>\n",
              "      <th>data set</th>\n",
              "    </tr>\n",
              "  </thead>\n",
              "  <tbody>\n",
              "    <tr>\n",
              "      <th>3291</th>\n",
              "      <td>22</td>\n",
              "      <td>train/king of diamonds/045.jpg</td>\n",
              "      <td>king of diamonds</td>\n",
              "      <td>king</td>\n",
              "      <td>train</td>\n",
              "    </tr>\n",
              "    <tr>\n",
              "      <th>185</th>\n",
              "      <td>1</td>\n",
              "      <td>train/ace of diamonds/065.jpg</td>\n",
              "      <td>ace of diamonds</td>\n",
              "      <td>ace</td>\n",
              "      <td>train</td>\n",
              "    </tr>\n",
              "    <tr>\n",
              "      <th>1637</th>\n",
              "      <td>11</td>\n",
              "      <td>train/five of spades/028.jpg</td>\n",
              "      <td>five of spades</td>\n",
              "      <td>five</td>\n",
              "      <td>train</td>\n",
              "    </tr>\n",
              "    <tr>\n",
              "      <th>3320</th>\n",
              "      <td>22</td>\n",
              "      <td>train/king of diamonds/074.jpg</td>\n",
              "      <td>king of diamonds</td>\n",
              "      <td>king</td>\n",
              "      <td>train</td>\n",
              "    </tr>\n",
              "    <tr>\n",
              "      <th>6390</th>\n",
              "      <td>44</td>\n",
              "      <td>train/ten of spades/031.jpg</td>\n",
              "      <td>ten of spades</td>\n",
              "      <td>ten</td>\n",
              "      <td>train</td>\n",
              "    </tr>\n",
              "    <tr>\n",
              "      <th>1981</th>\n",
              "      <td>13</td>\n",
              "      <td>train/four of diamonds/057.jpg</td>\n",
              "      <td>four of diamonds</td>\n",
              "      <td>four</td>\n",
              "      <td>train</td>\n",
              "    </tr>\n",
              "    <tr>\n",
              "      <th>4779</th>\n",
              "      <td>32</td>\n",
              "      <td>train/queen of spades/119.jpg</td>\n",
              "      <td>queen of spades</td>\n",
              "      <td>queen</td>\n",
              "      <td>train</td>\n",
              "    </tr>\n",
              "    <tr>\n",
              "      <th>4642</th>\n",
              "      <td>31</td>\n",
              "      <td>train/queen of hearts/121.jpg</td>\n",
              "      <td>queen of hearts</td>\n",
              "      <td>queen</td>\n",
              "      <td>train</td>\n",
              "    </tr>\n",
              "    <tr>\n",
              "      <th>6288</th>\n",
              "      <td>43</td>\n",
              "      <td>train/ten of hearts/058.jpg</td>\n",
              "      <td>ten of hearts</td>\n",
              "      <td>ten</td>\n",
              "      <td>train</td>\n",
              "    </tr>\n",
              "    <tr>\n",
              "      <th>1560</th>\n",
              "      <td>10</td>\n",
              "      <td>train/five of hearts/087.jpg</td>\n",
              "      <td>five of hearts</td>\n",
              "      <td>five</td>\n",
              "      <td>train</td>\n",
              "    </tr>\n",
              "  </tbody>\n",
              "</table>\n",
              "</div>\n",
              "      <button class=\"colab-df-convert\" onclick=\"convertToInteractive('df-e08e939b-b67b-4edc-918a-31bfa437459b')\"\n",
              "              title=\"Convert this dataframe to an interactive table.\"\n",
              "              style=\"display:none;\">\n",
              "        \n",
              "  <svg xmlns=\"http://www.w3.org/2000/svg\" height=\"24px\"viewBox=\"0 0 24 24\"\n",
              "       width=\"24px\">\n",
              "    <path d=\"M0 0h24v24H0V0z\" fill=\"none\"/>\n",
              "    <path d=\"M18.56 5.44l.94 2.06.94-2.06 2.06-.94-2.06-.94-.94-2.06-.94 2.06-2.06.94zm-11 1L8.5 8.5l.94-2.06 2.06-.94-2.06-.94L8.5 2.5l-.94 2.06-2.06.94zm10 10l.94 2.06.94-2.06 2.06-.94-2.06-.94-.94-2.06-.94 2.06-2.06.94z\"/><path d=\"M17.41 7.96l-1.37-1.37c-.4-.4-.92-.59-1.43-.59-.52 0-1.04.2-1.43.59L10.3 9.45l-7.72 7.72c-.78.78-.78 2.05 0 2.83L4 21.41c.39.39.9.59 1.41.59.51 0 1.02-.2 1.41-.59l7.78-7.78 2.81-2.81c.8-.78.8-2.07 0-2.86zM5.41 20L4 18.59l7.72-7.72 1.47 1.35L5.41 20z\"/>\n",
              "  </svg>\n",
              "      </button>\n",
              "      \n",
              "  <style>\n",
              "    .colab-df-container {\n",
              "      display:flex;\n",
              "      flex-wrap:wrap;\n",
              "      gap: 12px;\n",
              "    }\n",
              "\n",
              "    .colab-df-convert {\n",
              "      background-color: #E8F0FE;\n",
              "      border: none;\n",
              "      border-radius: 50%;\n",
              "      cursor: pointer;\n",
              "      display: none;\n",
              "      fill: #1967D2;\n",
              "      height: 32px;\n",
              "      padding: 0 0 0 0;\n",
              "      width: 32px;\n",
              "    }\n",
              "\n",
              "    .colab-df-convert:hover {\n",
              "      background-color: #E2EBFA;\n",
              "      box-shadow: 0px 1px 2px rgba(60, 64, 67, 0.3), 0px 1px 3px 1px rgba(60, 64, 67, 0.15);\n",
              "      fill: #174EA6;\n",
              "    }\n",
              "\n",
              "    [theme=dark] .colab-df-convert {\n",
              "      background-color: #3B4455;\n",
              "      fill: #D2E3FC;\n",
              "    }\n",
              "\n",
              "    [theme=dark] .colab-df-convert:hover {\n",
              "      background-color: #434B5C;\n",
              "      box-shadow: 0px 1px 3px 1px rgba(0, 0, 0, 0.15);\n",
              "      filter: drop-shadow(0px 1px 2px rgba(0, 0, 0, 0.3));\n",
              "      fill: #FFFFFF;\n",
              "    }\n",
              "  </style>\n",
              "\n",
              "      <script>\n",
              "        const buttonEl =\n",
              "          document.querySelector('#df-e08e939b-b67b-4edc-918a-31bfa437459b button.colab-df-convert');\n",
              "        buttonEl.style.display =\n",
              "          google.colab.kernel.accessAllowed ? 'block' : 'none';\n",
              "\n",
              "        async function convertToInteractive(key) {\n",
              "          const element = document.querySelector('#df-e08e939b-b67b-4edc-918a-31bfa437459b');\n",
              "          const dataTable =\n",
              "            await google.colab.kernel.invokeFunction('convertToInteractive',\n",
              "                                                     [key], {});\n",
              "          if (!dataTable) return;\n",
              "\n",
              "          const docLinkHtml = 'Like what you see? Visit the ' +\n",
              "            '<a target=\"_blank\" href=https://colab.research.google.com/notebooks/data_table.ipynb>data table notebook</a>'\n",
              "            + ' to learn more about interactive tables.';\n",
              "          element.innerHTML = '';\n",
              "          dataTable['output_type'] = 'display_data';\n",
              "          await google.colab.output.renderOutput(dataTable, element);\n",
              "          const docLink = document.createElement('div');\n",
              "          docLink.innerHTML = docLinkHtml;\n",
              "          element.appendChild(docLink);\n",
              "        }\n",
              "      </script>\n",
              "    </div>\n",
              "  </div>\n",
              "  "
            ]
          },
          "metadata": {}
        },
        {
          "output_type": "stream",
          "name": "stdout",
          "text": [
            "\n",
            "\n",
            "\n",
            "\t######################## Test Data Sample ########################\n",
            "\n"
          ]
        },
        {
          "output_type": "display_data",
          "data": {
            "text/plain": [
              "      class index                       filepaths            labels card type  \\\n",
              "3291           22  train/king of diamonds/045.jpg  king of diamonds      king   \n",
              "185             1   train/ace of diamonds/065.jpg   ace of diamonds       ace   \n",
              "1637           11    train/five of spades/028.jpg    five of spades      five   \n",
              "3320           22  train/king of diamonds/074.jpg  king of diamonds      king   \n",
              "6390           44     train/ten of spades/031.jpg     ten of spades       ten   \n",
              "1981           13  train/four of diamonds/057.jpg  four of diamonds      four   \n",
              "4779           32   train/queen of spades/119.jpg   queen of spades     queen   \n",
              "4642           31   train/queen of hearts/121.jpg   queen of hearts     queen   \n",
              "6288           43     train/ten of hearts/058.jpg     ten of hearts       ten   \n",
              "1560           10    train/five of hearts/087.jpg    five of hearts      five   \n",
              "\n",
              "     data set  \n",
              "3291    train  \n",
              "185     train  \n",
              "1637    train  \n",
              "3320    train  \n",
              "6390    train  \n",
              "1981    train  \n",
              "4779    train  \n",
              "4642    train  \n",
              "6288    train  \n",
              "1560    train  "
            ],
            "text/html": [
              "\n",
              "  <div id=\"df-66c2cd1a-f1fa-48dd-8aa9-5af02f5b6cfc\">\n",
              "    <div class=\"colab-df-container\">\n",
              "      <div>\n",
              "<style scoped>\n",
              "    .dataframe tbody tr th:only-of-type {\n",
              "        vertical-align: middle;\n",
              "    }\n",
              "\n",
              "    .dataframe tbody tr th {\n",
              "        vertical-align: top;\n",
              "    }\n",
              "\n",
              "    .dataframe thead th {\n",
              "        text-align: right;\n",
              "    }\n",
              "</style>\n",
              "<table border=\"1\" class=\"dataframe\">\n",
              "  <thead>\n",
              "    <tr style=\"text-align: right;\">\n",
              "      <th></th>\n",
              "      <th>class index</th>\n",
              "      <th>filepaths</th>\n",
              "      <th>labels</th>\n",
              "      <th>card type</th>\n",
              "      <th>data set</th>\n",
              "    </tr>\n",
              "  </thead>\n",
              "  <tbody>\n",
              "    <tr>\n",
              "      <th>3291</th>\n",
              "      <td>22</td>\n",
              "      <td>train/king of diamonds/045.jpg</td>\n",
              "      <td>king of diamonds</td>\n",
              "      <td>king</td>\n",
              "      <td>train</td>\n",
              "    </tr>\n",
              "    <tr>\n",
              "      <th>185</th>\n",
              "      <td>1</td>\n",
              "      <td>train/ace of diamonds/065.jpg</td>\n",
              "      <td>ace of diamonds</td>\n",
              "      <td>ace</td>\n",
              "      <td>train</td>\n",
              "    </tr>\n",
              "    <tr>\n",
              "      <th>1637</th>\n",
              "      <td>11</td>\n",
              "      <td>train/five of spades/028.jpg</td>\n",
              "      <td>five of spades</td>\n",
              "      <td>five</td>\n",
              "      <td>train</td>\n",
              "    </tr>\n",
              "    <tr>\n",
              "      <th>3320</th>\n",
              "      <td>22</td>\n",
              "      <td>train/king of diamonds/074.jpg</td>\n",
              "      <td>king of diamonds</td>\n",
              "      <td>king</td>\n",
              "      <td>train</td>\n",
              "    </tr>\n",
              "    <tr>\n",
              "      <th>6390</th>\n",
              "      <td>44</td>\n",
              "      <td>train/ten of spades/031.jpg</td>\n",
              "      <td>ten of spades</td>\n",
              "      <td>ten</td>\n",
              "      <td>train</td>\n",
              "    </tr>\n",
              "    <tr>\n",
              "      <th>1981</th>\n",
              "      <td>13</td>\n",
              "      <td>train/four of diamonds/057.jpg</td>\n",
              "      <td>four of diamonds</td>\n",
              "      <td>four</td>\n",
              "      <td>train</td>\n",
              "    </tr>\n",
              "    <tr>\n",
              "      <th>4779</th>\n",
              "      <td>32</td>\n",
              "      <td>train/queen of spades/119.jpg</td>\n",
              "      <td>queen of spades</td>\n",
              "      <td>queen</td>\n",
              "      <td>train</td>\n",
              "    </tr>\n",
              "    <tr>\n",
              "      <th>4642</th>\n",
              "      <td>31</td>\n",
              "      <td>train/queen of hearts/121.jpg</td>\n",
              "      <td>queen of hearts</td>\n",
              "      <td>queen</td>\n",
              "      <td>train</td>\n",
              "    </tr>\n",
              "    <tr>\n",
              "      <th>6288</th>\n",
              "      <td>43</td>\n",
              "      <td>train/ten of hearts/058.jpg</td>\n",
              "      <td>ten of hearts</td>\n",
              "      <td>ten</td>\n",
              "      <td>train</td>\n",
              "    </tr>\n",
              "    <tr>\n",
              "      <th>1560</th>\n",
              "      <td>10</td>\n",
              "      <td>train/five of hearts/087.jpg</td>\n",
              "      <td>five of hearts</td>\n",
              "      <td>five</td>\n",
              "      <td>train</td>\n",
              "    </tr>\n",
              "  </tbody>\n",
              "</table>\n",
              "</div>\n",
              "      <button class=\"colab-df-convert\" onclick=\"convertToInteractive('df-66c2cd1a-f1fa-48dd-8aa9-5af02f5b6cfc')\"\n",
              "              title=\"Convert this dataframe to an interactive table.\"\n",
              "              style=\"display:none;\">\n",
              "        \n",
              "  <svg xmlns=\"http://www.w3.org/2000/svg\" height=\"24px\"viewBox=\"0 0 24 24\"\n",
              "       width=\"24px\">\n",
              "    <path d=\"M0 0h24v24H0V0z\" fill=\"none\"/>\n",
              "    <path d=\"M18.56 5.44l.94 2.06.94-2.06 2.06-.94-2.06-.94-.94-2.06-.94 2.06-2.06.94zm-11 1L8.5 8.5l.94-2.06 2.06-.94-2.06-.94L8.5 2.5l-.94 2.06-2.06.94zm10 10l.94 2.06.94-2.06 2.06-.94-2.06-.94-.94-2.06-.94 2.06-2.06.94z\"/><path d=\"M17.41 7.96l-1.37-1.37c-.4-.4-.92-.59-1.43-.59-.52 0-1.04.2-1.43.59L10.3 9.45l-7.72 7.72c-.78.78-.78 2.05 0 2.83L4 21.41c.39.39.9.59 1.41.59.51 0 1.02-.2 1.41-.59l7.78-7.78 2.81-2.81c.8-.78.8-2.07 0-2.86zM5.41 20L4 18.59l7.72-7.72 1.47 1.35L5.41 20z\"/>\n",
              "  </svg>\n",
              "      </button>\n",
              "      \n",
              "  <style>\n",
              "    .colab-df-container {\n",
              "      display:flex;\n",
              "      flex-wrap:wrap;\n",
              "      gap: 12px;\n",
              "    }\n",
              "\n",
              "    .colab-df-convert {\n",
              "      background-color: #E8F0FE;\n",
              "      border: none;\n",
              "      border-radius: 50%;\n",
              "      cursor: pointer;\n",
              "      display: none;\n",
              "      fill: #1967D2;\n",
              "      height: 32px;\n",
              "      padding: 0 0 0 0;\n",
              "      width: 32px;\n",
              "    }\n",
              "\n",
              "    .colab-df-convert:hover {\n",
              "      background-color: #E2EBFA;\n",
              "      box-shadow: 0px 1px 2px rgba(60, 64, 67, 0.3), 0px 1px 3px 1px rgba(60, 64, 67, 0.15);\n",
              "      fill: #174EA6;\n",
              "    }\n",
              "\n",
              "    [theme=dark] .colab-df-convert {\n",
              "      background-color: #3B4455;\n",
              "      fill: #D2E3FC;\n",
              "    }\n",
              "\n",
              "    [theme=dark] .colab-df-convert:hover {\n",
              "      background-color: #434B5C;\n",
              "      box-shadow: 0px 1px 3px 1px rgba(0, 0, 0, 0.15);\n",
              "      filter: drop-shadow(0px 1px 2px rgba(0, 0, 0, 0.3));\n",
              "      fill: #FFFFFF;\n",
              "    }\n",
              "  </style>\n",
              "\n",
              "      <script>\n",
              "        const buttonEl =\n",
              "          document.querySelector('#df-66c2cd1a-f1fa-48dd-8aa9-5af02f5b6cfc button.colab-df-convert');\n",
              "        buttonEl.style.display =\n",
              "          google.colab.kernel.accessAllowed ? 'block' : 'none';\n",
              "\n",
              "        async function convertToInteractive(key) {\n",
              "          const element = document.querySelector('#df-66c2cd1a-f1fa-48dd-8aa9-5af02f5b6cfc');\n",
              "          const dataTable =\n",
              "            await google.colab.kernel.invokeFunction('convertToInteractive',\n",
              "                                                     [key], {});\n",
              "          if (!dataTable) return;\n",
              "\n",
              "          const docLinkHtml = 'Like what you see? Visit the ' +\n",
              "            '<a target=\"_blank\" href=https://colab.research.google.com/notebooks/data_table.ipynb>data table notebook</a>'\n",
              "            + ' to learn more about interactive tables.';\n",
              "          element.innerHTML = '';\n",
              "          dataTable['output_type'] = 'display_data';\n",
              "          await google.colab.output.renderOutput(dataTable, element);\n",
              "          const docLink = document.createElement('div');\n",
              "          docLink.innerHTML = docLinkHtml;\n",
              "          element.appendChild(docLink);\n",
              "        }\n",
              "      </script>\n",
              "    </div>\n",
              "  </div>\n",
              "  "
            ]
          },
          "metadata": {}
        },
        {
          "output_type": "stream",
          "name": "stdout",
          "text": [
            "\n",
            "\n",
            "\n",
            "\t######################## Validation Data Sample ########################\n",
            "\n"
          ]
        },
        {
          "output_type": "display_data",
          "data": {
            "text/plain": [
              "      class index                      filepaths             labels card type  \\\n",
              "8086           39      valid/six of hearts/2.jpg      six of hearts       six   \n",
              "7942           10     valid/five of hearts/3.jpg     five of hearts      five   \n",
              "7927            7    valid/eight of spades/3.jpg    eight of spades     eight   \n",
              "7977           17   valid/jack of diamonds/3.jpg   jack of diamonds      jack   \n",
              "7997           21      valid/king of clubs/3.jpg      king of clubs      king   \n",
              "7891            0       valid/ace of clubs/2.jpg       ace of clubs       ace   \n",
              "8034           28     valid/nine of spades/5.jpg     nine of spades      nine   \n",
              "7920            6    valid/eight of hearts/1.jpg    eight of hearts     eight   \n",
              "8002           22   valid/king of diamonds/3.jpg   king of diamonds      king   \n",
              "8123           46  valid/three of diamonds/4.jpg  three of diamonds     three   \n",
              "\n",
              "     data set  \n",
              "8086    valid  \n",
              "7942    valid  \n",
              "7927    valid  \n",
              "7977    valid  \n",
              "7997    valid  \n",
              "7891    valid  \n",
              "8034    valid  \n",
              "7920    valid  \n",
              "8002    valid  \n",
              "8123    valid  "
            ],
            "text/html": [
              "\n",
              "  <div id=\"df-6270354d-7911-4815-b595-8af28fe4b82e\">\n",
              "    <div class=\"colab-df-container\">\n",
              "      <div>\n",
              "<style scoped>\n",
              "    .dataframe tbody tr th:only-of-type {\n",
              "        vertical-align: middle;\n",
              "    }\n",
              "\n",
              "    .dataframe tbody tr th {\n",
              "        vertical-align: top;\n",
              "    }\n",
              "\n",
              "    .dataframe thead th {\n",
              "        text-align: right;\n",
              "    }\n",
              "</style>\n",
              "<table border=\"1\" class=\"dataframe\">\n",
              "  <thead>\n",
              "    <tr style=\"text-align: right;\">\n",
              "      <th></th>\n",
              "      <th>class index</th>\n",
              "      <th>filepaths</th>\n",
              "      <th>labels</th>\n",
              "      <th>card type</th>\n",
              "      <th>data set</th>\n",
              "    </tr>\n",
              "  </thead>\n",
              "  <tbody>\n",
              "    <tr>\n",
              "      <th>8086</th>\n",
              "      <td>39</td>\n",
              "      <td>valid/six of hearts/2.jpg</td>\n",
              "      <td>six of hearts</td>\n",
              "      <td>six</td>\n",
              "      <td>valid</td>\n",
              "    </tr>\n",
              "    <tr>\n",
              "      <th>7942</th>\n",
              "      <td>10</td>\n",
              "      <td>valid/five of hearts/3.jpg</td>\n",
              "      <td>five of hearts</td>\n",
              "      <td>five</td>\n",
              "      <td>valid</td>\n",
              "    </tr>\n",
              "    <tr>\n",
              "      <th>7927</th>\n",
              "      <td>7</td>\n",
              "      <td>valid/eight of spades/3.jpg</td>\n",
              "      <td>eight of spades</td>\n",
              "      <td>eight</td>\n",
              "      <td>valid</td>\n",
              "    </tr>\n",
              "    <tr>\n",
              "      <th>7977</th>\n",
              "      <td>17</td>\n",
              "      <td>valid/jack of diamonds/3.jpg</td>\n",
              "      <td>jack of diamonds</td>\n",
              "      <td>jack</td>\n",
              "      <td>valid</td>\n",
              "    </tr>\n",
              "    <tr>\n",
              "      <th>7997</th>\n",
              "      <td>21</td>\n",
              "      <td>valid/king of clubs/3.jpg</td>\n",
              "      <td>king of clubs</td>\n",
              "      <td>king</td>\n",
              "      <td>valid</td>\n",
              "    </tr>\n",
              "    <tr>\n",
              "      <th>7891</th>\n",
              "      <td>0</td>\n",
              "      <td>valid/ace of clubs/2.jpg</td>\n",
              "      <td>ace of clubs</td>\n",
              "      <td>ace</td>\n",
              "      <td>valid</td>\n",
              "    </tr>\n",
              "    <tr>\n",
              "      <th>8034</th>\n",
              "      <td>28</td>\n",
              "      <td>valid/nine of spades/5.jpg</td>\n",
              "      <td>nine of spades</td>\n",
              "      <td>nine</td>\n",
              "      <td>valid</td>\n",
              "    </tr>\n",
              "    <tr>\n",
              "      <th>7920</th>\n",
              "      <td>6</td>\n",
              "      <td>valid/eight of hearts/1.jpg</td>\n",
              "      <td>eight of hearts</td>\n",
              "      <td>eight</td>\n",
              "      <td>valid</td>\n",
              "    </tr>\n",
              "    <tr>\n",
              "      <th>8002</th>\n",
              "      <td>22</td>\n",
              "      <td>valid/king of diamonds/3.jpg</td>\n",
              "      <td>king of diamonds</td>\n",
              "      <td>king</td>\n",
              "      <td>valid</td>\n",
              "    </tr>\n",
              "    <tr>\n",
              "      <th>8123</th>\n",
              "      <td>46</td>\n",
              "      <td>valid/three of diamonds/4.jpg</td>\n",
              "      <td>three of diamonds</td>\n",
              "      <td>three</td>\n",
              "      <td>valid</td>\n",
              "    </tr>\n",
              "  </tbody>\n",
              "</table>\n",
              "</div>\n",
              "      <button class=\"colab-df-convert\" onclick=\"convertToInteractive('df-6270354d-7911-4815-b595-8af28fe4b82e')\"\n",
              "              title=\"Convert this dataframe to an interactive table.\"\n",
              "              style=\"display:none;\">\n",
              "        \n",
              "  <svg xmlns=\"http://www.w3.org/2000/svg\" height=\"24px\"viewBox=\"0 0 24 24\"\n",
              "       width=\"24px\">\n",
              "    <path d=\"M0 0h24v24H0V0z\" fill=\"none\"/>\n",
              "    <path d=\"M18.56 5.44l.94 2.06.94-2.06 2.06-.94-2.06-.94-.94-2.06-.94 2.06-2.06.94zm-11 1L8.5 8.5l.94-2.06 2.06-.94-2.06-.94L8.5 2.5l-.94 2.06-2.06.94zm10 10l.94 2.06.94-2.06 2.06-.94-2.06-.94-.94-2.06-.94 2.06-2.06.94z\"/><path d=\"M17.41 7.96l-1.37-1.37c-.4-.4-.92-.59-1.43-.59-.52 0-1.04.2-1.43.59L10.3 9.45l-7.72 7.72c-.78.78-.78 2.05 0 2.83L4 21.41c.39.39.9.59 1.41.59.51 0 1.02-.2 1.41-.59l7.78-7.78 2.81-2.81c.8-.78.8-2.07 0-2.86zM5.41 20L4 18.59l7.72-7.72 1.47 1.35L5.41 20z\"/>\n",
              "  </svg>\n",
              "      </button>\n",
              "      \n",
              "  <style>\n",
              "    .colab-df-container {\n",
              "      display:flex;\n",
              "      flex-wrap:wrap;\n",
              "      gap: 12px;\n",
              "    }\n",
              "\n",
              "    .colab-df-convert {\n",
              "      background-color: #E8F0FE;\n",
              "      border: none;\n",
              "      border-radius: 50%;\n",
              "      cursor: pointer;\n",
              "      display: none;\n",
              "      fill: #1967D2;\n",
              "      height: 32px;\n",
              "      padding: 0 0 0 0;\n",
              "      width: 32px;\n",
              "    }\n",
              "\n",
              "    .colab-df-convert:hover {\n",
              "      background-color: #E2EBFA;\n",
              "      box-shadow: 0px 1px 2px rgba(60, 64, 67, 0.3), 0px 1px 3px 1px rgba(60, 64, 67, 0.15);\n",
              "      fill: #174EA6;\n",
              "    }\n",
              "\n",
              "    [theme=dark] .colab-df-convert {\n",
              "      background-color: #3B4455;\n",
              "      fill: #D2E3FC;\n",
              "    }\n",
              "\n",
              "    [theme=dark] .colab-df-convert:hover {\n",
              "      background-color: #434B5C;\n",
              "      box-shadow: 0px 1px 3px 1px rgba(0, 0, 0, 0.15);\n",
              "      filter: drop-shadow(0px 1px 2px rgba(0, 0, 0, 0.3));\n",
              "      fill: #FFFFFF;\n",
              "    }\n",
              "  </style>\n",
              "\n",
              "      <script>\n",
              "        const buttonEl =\n",
              "          document.querySelector('#df-6270354d-7911-4815-b595-8af28fe4b82e button.colab-df-convert');\n",
              "        buttonEl.style.display =\n",
              "          google.colab.kernel.accessAllowed ? 'block' : 'none';\n",
              "\n",
              "        async function convertToInteractive(key) {\n",
              "          const element = document.querySelector('#df-6270354d-7911-4815-b595-8af28fe4b82e');\n",
              "          const dataTable =\n",
              "            await google.colab.kernel.invokeFunction('convertToInteractive',\n",
              "                                                     [key], {});\n",
              "          if (!dataTable) return;\n",
              "\n",
              "          const docLinkHtml = 'Like what you see? Visit the ' +\n",
              "            '<a target=\"_blank\" href=https://colab.research.google.com/notebooks/data_table.ipynb>data table notebook</a>'\n",
              "            + ' to learn more about interactive tables.';\n",
              "          element.innerHTML = '';\n",
              "          dataTable['output_type'] = 'display_data';\n",
              "          await google.colab.output.renderOutput(dataTable, element);\n",
              "          const docLink = document.createElement('div');\n",
              "          docLink.innerHTML = docLinkHtml;\n",
              "          element.appendChild(docLink);\n",
              "        }\n",
              "      </script>\n",
              "    </div>\n",
              "  </div>\n",
              "  "
            ]
          },
          "metadata": {}
        },
        {
          "output_type": "stream",
          "name": "stdout",
          "text": [
            "\n",
            "\n",
            "\n"
          ]
        }
      ]
    },
    {
      "cell_type": "code",
      "source": [
        "# Define the training, testing, and Validation directories. \n",
        "train_dir = os.path.join(data_dir, 'train')\n",
        "test_dir = os.path.join(data_dir, 'test')\n",
        "valid_dir = os.path.join(data_dir, 'valid')"
      ],
      "metadata": {
        "id": "u01_vtBpn-3P"
      },
      "execution_count": null,
      "outputs": []
    },
    {
      "cell_type": "code",
      "source": [
        "train_sample.filepaths.to_list()"
      ],
      "metadata": {
        "colab": {
          "base_uri": "https://localhost:8080/"
        },
        "id": "yYEVbm7U1chX",
        "outputId": "5ef7140e-199e-411a-e1fa-8366fb4c5c2e"
      },
      "execution_count": null,
      "outputs": [
        {
          "output_type": "execute_result",
          "data": {
            "text/plain": [
              "['train/three of clubs/086.jpg',\n",
              " 'train/two of clubs/015.jpg',\n",
              " 'train/king of diamonds/109.jpg',\n",
              " 'train/five of spades/069.jpg',\n",
              " 'train/ten of hearts/076.jpg',\n",
              " 'train/queen of spades/116.jpg',\n",
              " 'train/nine of hearts/052.jpg',\n",
              " 'train/queen of clubs/026.jpg',\n",
              " 'train/six of hearts/033.jpg',\n",
              " 'train/ten of hearts/129.jpg']"
            ]
          },
          "metadata": {},
          "execution_count": 77
        }
      ]
    },
    {
      "cell_type": "code",
      "source": [
        "# Visualizing Images. \n",
        "\n",
        "## Extracting file path. \n",
        "train_filepaths = train_sample.filepaths.to_list()[:5]\n",
        "test_filepaths = test_sample.filepaths.to_list()[:5]\n",
        "valid_filepaths = valid_sample.filepaths.to_list()[:5]\n",
        "\n",
        "## Define full image path.\n",
        "image_filepaths = \n",
        "image_files = [file for file in os.listdir() if file.endswith(\".jpg\")]\n",
        "\n",
        "\n",
        "num_images = len(image_files)\n",
        "num_rows = 3  # You can adjust the number of rows and columns as desired\n",
        "num_cols = num_images // num_rows\n",
        "\n",
        "fig, axs = plt.subplots(num_rows, num_cols, figsize=(10, 6))\n",
        "\n",
        "for i, image_file in enumerate(image_files):\n",
        "    row = i // num_cols\n",
        "    col = i % num_cols\n",
        "    image_path = os.path.join(directory_path, image_file)\n",
        "    image = plt.imread(image_path)\n",
        "    axs[row, col].imshow(image)\n",
        "    axs[row, col].set_title(image_file)\n",
        "    axs[row, col].axis('off')\n",
        "\n",
        "plt.tight_layout()\n",
        "plt.show()\n"
      ],
      "metadata": {
        "id": "wi36-sN80arL"
      },
      "execution_count": null,
      "outputs": []
    }
  ]
}