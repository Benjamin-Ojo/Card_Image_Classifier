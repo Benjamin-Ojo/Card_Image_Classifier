{
  "nbformat": 4,
  "nbformat_minor": 0,
  "metadata": {
    "colab": {
      "provenance": [],
      "authorship_tag": "ABX9TyOrim2SxsSV0/EcxlbiRLa1",
      "include_colab_link": true
    },
    "kernelspec": {
      "name": "python3",
      "display_name": "Python 3"
    },
    "language_info": {
      "name": "python"
    }
  },
  "cells": [
    {
      "cell_type": "markdown",
      "metadata": {
        "id": "view-in-github",
        "colab_type": "text"
      },
      "source": [
        "<a href=\"https://colab.research.google.com/github/Benjamin-Ojo/poker-card-image-recognition/blob/main/Poker_Card_Image_Recognition.ipynb\" target=\"_parent\"><img src=\"https://colab.research.google.com/assets/colab-badge.svg\" alt=\"Open In Colab\"/></a>"
      ]
    },
    {
      "cell_type": "markdown",
      "source": [
        "# **Project: Card Image Classification**\n",
        "---"
      ],
      "metadata": {
        "id": "oIUoVj-zM97u"
      }
    },
    {
      "cell_type": "markdown",
      "source": [
        "## **Introduction:**\n",
        "\n",
        "Welcome to an exciting project where we will be exploring the fascinating world of image recognition! Our project focuses on the task of classifying a set of poker cards into 53 different categories based on their type.\n",
        "\n",
        "Using a Convolutional Neural Network (CNN) model, we will train our model to accurately classify images of poker cards into any of the 53 categories. Our dataset, which was obtained from a popular data science community, Kaggle, contains a total of 8154 images of poker cards, divided into 7624 train, 265 test, and 265 validation sets. Each image is a 224 x 224 3-dimensional jpg format.\n",
        "\n",
        "The dataset we used for this project can be found on the Kaggle website at the following link: [Cards Image Dataset-Classification](https://www.kaggle.com/datasets/gpiosenka/cards-image-datasetclassification). This project will not only teach us how to build a powerful image recognition model using a CNN model, but it will also give us a deeper understanding of the complexities involved in training a machine learning algorithm to recognize images. So, buckle up, and let's dive into this thrilling project together!"
      ],
      "metadata": {
        "id": "V5TvsdU9NP99"
      }
    },
    {
      "cell_type": "markdown",
      "source": [
        "### Prject Break Down: \n",
        "The project would be broken down in the following:\n",
        "Certainly! Here's a breakdown of what this image recognition project will entail:\n",
        "\n",
        "1. **Data Wrangling:** We will download the poker card image dataset from Kaggle and examine the images to gain insights into the data.\n",
        "\n",
        "2. **Data Preprocessing:** We will preprocess the images by resizing them to a standard size and converting them into an array format suitable for feeding into our CNN model.\n",
        "\n",
        "3. **Data Augmentation:** We will use data augmentation techniques such as image rotation, flipping, and zooming to increase the size of our dataset and improve the robustness of our model.\n",
        "\n",
        "4. **Model Building:** We will build a CNN model using Keras with TensorFlow backend, and train the model using our preprocessed dataset. We will experiment with different architectures, hyperparameters, and optimization algorithms to achieve optimal performance.\n",
        "\n",
        "5. **Model Evaluation:** We will evaluate the performance of our model using various metrics such as accuracy, precision, recall, and F1 score, and visualize the results using confusion matrix and classification report.\n",
        "\n",
        "6. **Model Deployment:** We will deploy our trained model to make predictions on new, unseen poker card images, and visualize the predictions.\n",
        "\n"
      ],
      "metadata": {
        "id": "HYCSITnTRFdD"
      }
    },
    {
      "cell_type": "markdown",
      "source": [
        "## **Data Wrangling:**"
      ],
      "metadata": {
        "id": "07Rrcv_xXN5P"
      }
    },
    {
      "cell_type": "markdown",
      "source": [
        "### Data Collection:\n",
        "\n",
        "We will be downloading our dataset form kaggle and extracting the data from the zip foulder it enclosed in using zipfile package."
      ],
      "metadata": {
        "id": "CsBoRvq-XgSl"
      }
    },
    {
      "cell_type": "code",
      "source": [
        "# Define dataset folder. \n",
        "! mkdir 1.Dataset.\n",
        "\n",
        "# Downloading dataset with wget. \n",
        "! wget -r -nH -P /1.Dataset. --cut-dirs=1 https://www.kaggle.com/datasets/gpiosenka/cards-image-datasetclassification/download?datasetVersionNumber=2\n",
        "\n"
      ],
      "metadata": {
        "colab": {
          "base_uri": "https://localhost:8080/"
        },
        "id": "1FEgSKNFNODX",
        "outputId": "1ea4f426-f2be-4c31-b955-2823ca8ecf4e"
      },
      "execution_count": null,
      "outputs": [
        {
          "output_type": "stream",
          "name": "stdout",
          "text": [
            "--2023-05-14 18:09:55--  https://www.kaggle.com/datasets/gpiosenka/cards-image-datasetclassification/download?datasetVersionNumber=2\n",
            "Resolving www.kaggle.com (www.kaggle.com)... 35.244.233.98\n",
            "Connecting to www.kaggle.com (www.kaggle.com)|35.244.233.98|:443... connected.\n",
            "HTTP request sent, awaiting response... 302 Found\n",
            "Location: /account/login?titleType=dataset-downloads&showDatasetDownloadSkip=False&messageId=datasetsWelcome&returnUrl=%2Fdatasets%2Fgpiosenka%2Fcards-image-datasetclassification%2Fversions%2F2%3Fresource%3Ddownload [following]\n",
            "--2023-05-14 18:09:55--  https://www.kaggle.com/account/login?titleType=dataset-downloads&showDatasetDownloadSkip=False&messageId=datasetsWelcome&returnUrl=%2Fdatasets%2Fgpiosenka%2Fcards-image-datasetclassification%2Fversions%2F2%3Fresource%3Ddownload\n",
            "Reusing existing connection to www.kaggle.com:443.\n",
            "HTTP request sent, awaiting response... 200 OK\n",
            "Length: unspecified [text/html]\n",
            "Saving to: ‘/1.Dataset./gpiosenka/cards-image-datasetclassification/download?datasetVersionNumber=2’\n",
            "\n",
            "\r          gpiosenka     [<=>                 ]       0  --.-KB/s               \rgpiosenka/cards-ima     [ <=>                ]   5.12K  --.-KB/s    in 0.006s  \n",
            "\n",
            "2023-05-14 18:09:56 (812 KB/s) - ‘/1.Dataset./gpiosenka/cards-image-datasetclassification/download?datasetVersionNumber=2’ saved [5244]\n",
            "\n",
            "Loading robots.txt; please ignore errors.\n",
            "--2023-05-14 18:09:56--  https://www.kaggle.com/robots.txt\n",
            "Reusing existing connection to www.kaggle.com:443.\n",
            "HTTP request sent, awaiting response... 404 Not Found\n",
            "2023-05-14 18:09:56 ERROR 404: Not Found.\n",
            "\n",
            "--2023-05-14 18:09:56--  https://www.kaggle.com/static/images/favicon.ico\n",
            "Reusing existing connection to www.kaggle.com:443.\n",
            "HTTP request sent, awaiting response... 200 OK\n",
            "Length: unspecified [image/x-icon]\n",
            "Saving to: ‘/1.Dataset./images/favicon.ico’\n",
            "\n",
            "images/favicon.ico      [ <=>                ]   5.30K  --.-KB/s    in 0.002s  \n",
            "\n",
            "2023-05-14 18:09:56 (2.21 MB/s) - ‘/1.Dataset./images/favicon.ico’ saved [5430]\n",
            "\n",
            "--2023-05-14 18:09:56--  https://www.kaggle.com/static/json/manifest.json\n",
            "Reusing existing connection to www.kaggle.com:443.\n",
            "HTTP request sent, awaiting response... 200 OK\n",
            "Length: unspecified [application/json]\n",
            "Saving to: ‘/1.Dataset./json/manifest.json’\n",
            "\n",
            "json/manifest.json      [ <=>                ]     595  --.-KB/s    in 0s      \n",
            "\n",
            "2023-05-14 18:09:56 (32.3 MB/s) - ‘/1.Dataset./json/manifest.json’ saved [595]\n",
            "\n",
            "--2023-05-14 18:09:56--  https://www.kaggle.com/static/assets/vendor.css?v=347bcfc883299a7a24f3\n",
            "Reusing existing connection to www.kaggle.com:443.\n",
            "HTTP request sent, awaiting response... 200 OK\n",
            "Length: unspecified [text/css]\n",
            "Saving to: ‘/1.Dataset./assets/vendor.css?v=347bcfc883299a7a24f3’\n",
            "\n",
            "assets/vendor.css?v     [ <=>                ] 235.99K  1.16MB/s    in 0.2s    \n",
            "\n",
            "2023-05-14 18:09:56 (1.16 MB/s) - ‘/1.Dataset./assets/vendor.css?v=347bcfc883299a7a24f3’ saved [241654]\n",
            "\n",
            "--2023-05-14 18:09:56--  https://www.kaggle.com/static/assets/app.css?v=81f9b0bf40d37d37cc8f\n",
            "Reusing existing connection to www.kaggle.com:443.\n",
            "HTTP request sent, awaiting response... 200 OK\n",
            "Length: unspecified [text/css]\n",
            "Saving to: ‘/1.Dataset./assets/app.css?v=81f9b0bf40d37d37cc8f’\n",
            "\n",
            "assets/app.css?v=81     [  <=>               ] 235.06K  1.12MB/s    in 0.2s    \n",
            "\n",
            "2023-05-14 18:09:56 (1.12 MB/s) - ‘/1.Dataset./assets/app.css?v=81f9b0bf40d37d37cc8f’ saved [240705]\n",
            "\n",
            "--2023-05-14 18:09:56--  https://www.kaggle.com/static/assets/runtime.js?v=0e4a6cb63e1ef4fb41d4\n",
            "Reusing existing connection to www.kaggle.com:443.\n",
            "HTTP request sent, awaiting response... 200 OK\n",
            "Length: unspecified [text/javascript]\n",
            "Saving to: ‘/1.Dataset./assets/runtime.js?v=0e4a6cb63e1ef4fb41d4’\n",
            "\n",
            "assets/runtime.js?v     [ <=>                ]   9.61K  --.-KB/s    in 0.006s  \n",
            "\n",
            "2023-05-14 18:09:57 (1.47 MB/s) - ‘/1.Dataset./assets/runtime.js?v=0e4a6cb63e1ef4fb41d4’ saved [9844]\n",
            "\n",
            "--2023-05-14 18:09:57--  https://www.kaggle.com/static/assets/vendor.js?v=67cff1764a8613cd7280\n",
            "Reusing existing connection to www.kaggle.com:443.\n",
            "HTTP request sent, awaiting response... 200 OK\n",
            "Length: unspecified [text/javascript]\n",
            "Saving to: ‘/1.Dataset./assets/vendor.js?v=67cff1764a8613cd7280’\n",
            "\n",
            "assets/vendor.js?v=     [  <=>               ]   2.36M  6.19MB/s    in 0.4s    \n",
            "\n",
            "2023-05-14 18:09:57 (6.19 MB/s) - ‘/1.Dataset./assets/vendor.js?v=67cff1764a8613cd7280’ saved [2473980]\n",
            "\n",
            "--2023-05-14 18:09:57--  https://www.kaggle.com/static/assets/app.js?v=48ab49515c3a6c473f74\n",
            "Reusing existing connection to www.kaggle.com:443.\n",
            "HTTP request sent, awaiting response... 200 OK\n",
            "Length: unspecified [text/javascript]\n",
            "Saving to: ‘/1.Dataset./assets/app.js?v=48ab49515c3a6c473f74’\n",
            "\n",
            "assets/app.js?v=48a     [  <=>               ]   1.55M  4.57MB/s    in 0.3s    \n",
            "\n",
            "2023-05-14 18:09:58 (4.57 MB/s) - ‘/1.Dataset./assets/app.js?v=48ab49515c3a6c473f74’ saved [1623760]\n",
            "\n",
            "--2023-05-14 18:09:58--  https://www.kaggle.com/static/assets/wmd-buttons.png\n",
            "Reusing existing connection to www.kaggle.com:443.\n",
            "HTTP request sent, awaiting response... 404 Not Found\n",
            "2023-05-14 18:09:58 ERROR 404: Not Found.\n",
            "\n",
            "--2023-05-14 18:09:58--  https://www.kaggle.com/static/fonts/fontawesome-webfont.eot?v=4.5.0\n",
            "Reusing existing connection to www.kaggle.com:443.\n",
            "HTTP request sent, awaiting response... 200 OK\n",
            "Length: unspecified [application/vnd.ms-fontobject]\n",
            "Saving to: ‘/1.Dataset./fonts/fontawesome-webfont.eot?v=4.5.0’\n",
            "\n",
            "fonts/fontawesome-w     [ <=>                ]  69.15K  --.-KB/s    in 0.1s    \n",
            "\n",
            "2023-05-14 18:09:58 (637 KB/s) - ‘/1.Dataset./fonts/fontawesome-webfont.eot?v=4.5.0’ saved [70807]\n",
            "\n",
            "--2023-05-14 18:09:58--  https://www.kaggle.com/static/fonts/fontawesome-webfont.eot?\n",
            "Reusing existing connection to www.kaggle.com:443.\n",
            "HTTP request sent, awaiting response... 200 OK\n",
            "Length: unspecified [application/vnd.ms-fontobject]\n",
            "Saving to: ‘/1.Dataset./fonts/fontawesome-webfont.eot?’\n",
            "\n",
            "fonts/fontawesome-w     [ <=>                ]  69.15K  --.-KB/s    in 0.06s   \n",
            "\n",
            "2023-05-14 18:09:58 (1.06 MB/s) - ‘/1.Dataset./fonts/fontawesome-webfont.eot?’ saved [70807]\n",
            "\n",
            "--2023-05-14 18:09:58--  https://www.kaggle.com/static/fonts/fontawesome-webfont.woff2?v=4.5.0\n",
            "Reusing existing connection to www.kaggle.com:443.\n",
            "HTTP request sent, awaiting response... 200 OK\n",
            "Length: unspecified [font/woff2]\n",
            "Saving to: ‘/1.Dataset./fonts/fontawesome-webfont.woff2?v=4.5.0’\n",
            "\n",
            "fonts/fontawesome-w     [ <=>                ]  65.06K  --.-KB/s    in 0.09s   \n",
            "\n",
            "2023-05-14 18:09:58 (741 KB/s) - ‘/1.Dataset./fonts/fontawesome-webfont.woff2?v=4.5.0’ saved [66624]\n",
            "\n",
            "--2023-05-14 18:09:58--  https://www.kaggle.com/static/fonts/fontawesome-webfont.woff?v=4.5.0\n",
            "Reusing existing connection to www.kaggle.com:443.\n",
            "HTTP request sent, awaiting response... 200 OK\n",
            "Length: unspecified [application/font-woff]\n",
            "Saving to: ‘/1.Dataset./fonts/fontawesome-webfont.woff?v=4.5.0’\n",
            "\n",
            "fonts/fontawesome-w     [ <=>                ]  81.63K  --.-KB/s    in 0.06s   \n",
            "\n",
            "2023-05-14 18:09:58 (1.26 MB/s) - ‘/1.Dataset./fonts/fontawesome-webfont.woff?v=4.5.0’ saved [83588]\n",
            "\n",
            "--2023-05-14 18:09:58--  https://www.kaggle.com/static/fonts/fontawesome-webfont.ttf?v=4.5.0\n",
            "Reusing existing connection to www.kaggle.com:443.\n",
            "HTTP request sent, awaiting response... 200 OK\n",
            "Length: unspecified [application/x-font-ttf]\n",
            "Saving to: ‘/1.Dataset./fonts/fontawesome-webfont.ttf?v=4.5.0’\n",
            "\n",
            "fonts/fontawesome-w     [ <=>                ] 138.74K  --.-KB/s    in 0.06s   \n",
            "\n",
            "2023-05-14 18:09:59 (2.42 MB/s) - ‘/1.Dataset./fonts/fontawesome-webfont.ttf?v=4.5.0’ saved [142072]\n",
            "\n",
            "--2023-05-14 18:09:59--  https://www.kaggle.com/static/fonts/fontawesome-webfont.svg?v=4.5.0\n",
            "Reusing existing connection to www.kaggle.com:443.\n",
            "HTTP request sent, awaiting response... 200 OK\n",
            "Length: unspecified [image/svg+xml]\n",
            "Saving to: ‘/1.Dataset./fonts/fontawesome-webfont.svg?v=4.5.0’\n",
            "\n",
            "fonts/fontawesome-w     [  <=>               ] 357.05K  1.61MB/s    in 0.2s    \n",
            "\n",
            "2023-05-14 18:09:59 (1.61 MB/s) - ‘/1.Dataset./fonts/fontawesome-webfont.svg?v=4.5.0’ saved [365616]\n",
            "\n",
            "--2023-05-14 18:09:59--  https://www.kaggle.com/static/images/kernels-header.png\n",
            "Reusing existing connection to www.kaggle.com:443.\n",
            "HTTP request sent, awaiting response... 200 OK\n",
            "Length: unspecified [image/png]\n",
            "Saving to: ‘/1.Dataset./images/kernels-header.png’\n",
            "\n",
            "images/kernels-head     [ <=>                ]  86.18K  --.-KB/s    in 0.06s   \n",
            "\n",
            "2023-05-14 18:09:59 (1.49 MB/s) - ‘/1.Dataset./images/kernels-header.png’ saved [88248]\n",
            "\n",
            "--2023-05-14 18:09:59--  https://www.kaggle.com/static/images/wmd-buttons.png\n",
            "Reusing existing connection to www.kaggle.com:443.\n",
            "HTTP request sent, awaiting response... 200 OK\n",
            "Length: unspecified [image/png]\n",
            "Saving to: ‘/1.Dataset./images/wmd-buttons.png’\n",
            "\n",
            "images/wmd-buttons.     [ <=>                ]   4.59K  --.-KB/s    in 0.001s  \n",
            "\n",
            "2023-05-14 18:09:59 (5.14 MB/s) - ‘/1.Dataset./images/wmd-buttons.png’ saved [4701]\n",
            "\n",
            "--2023-05-14 18:09:59--  https://www.kaggle.com/static/images/rankings@2x.png\n",
            "Reusing existing connection to www.kaggle.com:443.\n",
            "HTTP request sent, awaiting response... 200 OK\n",
            "Length: unspecified [image/png]\n",
            "Saving to: ‘/1.Dataset./images/rankings@2x.png’\n",
            "\n",
            "images/rankings@2x.     [ <=>                ]  73.35K  --.-KB/s    in 0.06s   \n",
            "\n",
            "2023-05-14 18:09:59 (1.13 MB/s) - ‘/1.Dataset./images/rankings@2x.png’ saved [75108]\n",
            "\n",
            "FINISHED --2023-05-14 18:09:59--\n",
            "Total wall clock time: 4.0s\n",
            "Downloaded: 17 files, 5.3M in 1.9s (2.86 MB/s)\n"
          ]
        }
      ]
    }
  ]
}